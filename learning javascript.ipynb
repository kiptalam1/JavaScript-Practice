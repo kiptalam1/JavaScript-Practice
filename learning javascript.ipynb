{
  "metadata": {
    "kernelspec": {
      "name": "p5js",
      "display_name": "p5.js",
      "language": "javascript"
    },
    "language_info": {
      "codemirror_mode": {
        "name": "javascript"
      },
      "file_extension": ".js",
      "mimetype": "text/javascript",
      "name": "p5js",
      "nbconvert_exporter": "javascript",
      "pygments_lexer": "javascript",
      "version": "es2017"
    }
  },
  "nbformat_minor": 4,
  "nbformat": 4,
  "cells": [
    {
      "cell_type": "markdown",
      "source": "# Basics",
      "metadata": {}
    },
    {
      "cell_type": "markdown",
      "source": "Variables and Data Types\n\nDeclare a variable name and assign your name to it.\nDeclare a variable age and assign your age to it.\nDeclare a variable isStudent and set it to true or false based on your status.\nPrint all three variables to the console.\n",
      "metadata": {}
    },
    {
      "cell_type": "code",
      "source": "var name;\nname = 'Adams';\nvar age;\nage = 24;\nvar isStudent;\nisStudent = true;\nconsole.log(name);\nconsole.log(age);\nconsole.log(isStudent);",
      "metadata": {
        "trusted": true
      },
      "outputs": [
        {
          "execution_count": 24,
          "output_type": "execute_result",
          "data": {},
          "metadata": {}
        },
        {
          "event": "stream",
          "name": "stdout",
          "text": "Adams\n24\ntrue\n",
          "output_type": "stream"
        }
      ],
      "execution_count": 24
    },
    {
      "cell_type": "markdown",
      "source": "Basic Operators\n\nWrite a program that takes two numbers, adds them, subtracts one from the other, multiplies them, and divides them.\nPrint the results to the console.\n",
      "metadata": {}
    },
    {
      "cell_type": "code",
      "source": "function numberOperations(num1, num2) {\n    console.log(\"addition:\",(num1 + num2));\n    console.log(\"subtraction:\",(num1 - num2));\n    console.log(\"division:\",(num1/num2));\n    console.log(\"product:\",(num1 * num2));\n}\n\nconsole.log(numberOperations(10, 2));",
      "metadata": {
        "trusted": true
      },
      "outputs": [
        {
          "execution_count": 25,
          "output_type": "execute_result",
          "data": {},
          "metadata": {}
        },
        {
          "event": "stream",
          "name": "stdout",
          "text": "addition: 12\nsubtraction: 8\ndivision: 5\nproduct: 20\n\n",
          "output_type": "stream"
        }
      ],
      "execution_count": 25
    },
    {
      "cell_type": "markdown",
      "source": "Strings\n\nCreate a string variable greeting that says \"Hello, my name is \" and concatenate it with your name variable.\nPrint the greeting to the console.",
      "metadata": {}
    },
    {
      "cell_type": "code",
      "source": "let greeting = \"Hello my name is \" + name;\nconsole.log(greeting);",
      "metadata": {
        "trusted": true
      },
      "outputs": [
        {
          "execution_count": 26,
          "output_type": "execute_result",
          "data": {},
          "metadata": {}
        },
        {
          "event": "stream",
          "name": "stdout",
          "text": "Hello my name is Adams\n",
          "output_type": "stream"
        }
      ],
      "execution_count": 26
    },
    {
      "cell_type": "markdown",
      "source": "Functions\n\nWrite a function square that takes a number as an argument and returns its square.\nCall the function with a few different numbers and print the results.",
      "metadata": {}
    },
    {
      "cell_type": "code",
      "source": "function square(num) {\n    return num ** 2;\n}\n\nconsole.log(square(5));\nconsole.log(square(6));\nconsole.log(square(3));\nconsole.log(square(2));",
      "metadata": {
        "trusted": true
      },
      "outputs": [
        {
          "execution_count": 27,
          "output_type": "execute_result",
          "data": {},
          "metadata": {}
        },
        {
          "event": "stream",
          "name": "stdout",
          "text": "25\n36\n9\n4\n",
          "output_type": "stream"
        }
      ],
      "execution_count": 27
    },
    {
      "cell_type": "markdown",
      "source": "# Intermediate",
      "metadata": {}
    },
    {
      "cell_type": "markdown",
      "source": "\nArrays\n\nCreate an array fruits containing 5 different fruits.\nPrint the first and last fruit in the array.\nAdd a fruit to the end of the array and print the new array.",
      "metadata": {}
    },
    {
      "cell_type": "code",
      "source": "let fruits = ['apple', 'banana', 'orange', 'mango', 'pear'];\nconsole.log(fruits[0]);\nconsole.log(fruits[fruits.length - 1]);\nfruits.push('avocado');\nconsole.log(fruits);\n",
      "metadata": {
        "trusted": true
      },
      "outputs": [
        {
          "execution_count": 42,
          "output_type": "execute_result",
          "data": {},
          "metadata": {}
        },
        {
          "event": "stream",
          "name": "stdout",
          "text": "apple\npear\napple,banana,orange,mango,pear,avocado\n",
          "output_type": "stream"
        }
      ],
      "execution_count": 42
    },
    {
      "cell_type": "markdown",
      "source": "Objects\n\nCreate an object person with properties name, age, and isStudent.\nPrint the name and age properties.\nAdd a new property favoriteColor and set it to your favorite color, then print the object.",
      "metadata": {}
    },
    {
      "cell_type": "code",
      "source": "let person = {\n    name: 'Adams',\n    age: 24,\n    isStudent: true\n};\n\nconsole.log(person.name);\nconsole.log(person.age);\nperson.favoriteColor = 'black';\nconsole.log(person);",
      "metadata": {
        "trusted": true
      },
      "outputs": [
        {
          "execution_count": 51,
          "output_type": "execute_result",
          "data": {},
          "metadata": {}
        },
        {
          "event": "stream",
          "name": "stdout",
          "text": "Adams\n24\n[object Object]\n",
          "output_type": "stream"
        }
      ],
      "execution_count": 51
    },
    {
      "cell_type": "markdown",
      "source": "Loops\n\nWrite a loop that prints numbers from 1 to 10.\nWrite a loop that prints each fruit in the fruits array.",
      "metadata": {}
    },
    {
      "cell_type": "code",
      "source": "for (let i = 1; i < 11; i++) {\n    console.log(i);\n}\nconsole.log();\n\nlet fruits = ['apple', 'banana', 'orange', 'mango', 'pear'];\n\nfor (let i = 0; i < fruits.length; i++) {\n    console.log(fruits[i]);\n}",
      "metadata": {
        "trusted": true
      },
      "outputs": [
        {
          "execution_count": 61,
          "output_type": "execute_result",
          "data": {},
          "metadata": {}
        },
        {
          "event": "stream",
          "name": "stdout",
          "text": "1\n2\n3\n4\n5\n6\n7\n8\n9\n10\n\napple\nbanana\norange\nmango\npear\n",
          "output_type": "stream"
        }
      ],
      "execution_count": 61
    },
    {
      "cell_type": "markdown",
      "source": "Conditionals\n\nWrite a function isAdult that takes an age as an argument and returns true if the age is 18 or older, and false otherwise.\nUse this function to check if the age property of your person object makes them an adult and print the result.",
      "metadata": {}
    },
    {
      "cell_type": "code",
      "source": "let person = {\n    name: 'Adams',\n    age: 24,\n    isStudent: true\n};\n\nfunction isAdult(age) {\n    return age >= 18;\n}\n\nisAdult(person.age);",
      "metadata": {
        "trusted": true
      },
      "outputs": [
        {
          "execution_count": 66,
          "output_type": "execute_result",
          "data": {
            "text/plain": true
          },
          "metadata": {}
        }
      ],
      "execution_count": 66
    },
    {
      "cell_type": "code",
      "source": "",
      "metadata": {
        "trusted": true
      },
      "outputs": [],
      "execution_count": null
    },
    {
      "cell_type": "markdown",
      "source": "# Advanced",
      "metadata": {}
    },
    {
      "cell_type": "markdown",
      "source": "Higher-order Functions\n\nUse the map function to create a new array containing the lengths of each fruit in the fruits array.\nUse the filter function to create a new array containing only the fruits with more than 5 letters.",
      "metadata": {}
    },
    {
      "cell_type": "code",
      "source": "let fruits = ['apple', 'banana', 'orange', 'mango', 'pear'];\narr = [for (let i = 0; i < fruits.length; i++)\n    console.log(i.length)    \n];\n",
      "metadata": {
        "trusted": true
      },
      "outputs": [
        {
          "ename": "SyntaxError",
          "evalue": "Unexpected token 'for'",
          "traceback": [
            "SyntaxError: Unexpected token 'for'\n    at eval (<anonymous>)\n    at r.eval [as _evalFunc] (eval at r (https://jupyterlite.github.io/demo/extensions/@jupyterlite/p5-kernel-extension/static/309.1defe0dd2ed55462ff6a.js?v=1defe0dd2ed55462ff6a:1:1), <anonymous>:3:15)\n    at r._eval (https://jupyterlite.github.io/demo/extensions/@jupyterlite/p5-kernel-extension/static/309.1defe0dd2ed55462ff6a.js?v=1defe0dd2ed55462ff6a:1:3278)\n    at r.executeRequest (https://jupyterlite.github.io/demo/extensions/@jupyterlite/p5-kernel-extension/static/309.1defe0dd2ed55462ff6a.js?v=1defe0dd2ed55462ff6a:1:1929)\n    at r._execute (https://jupyterlite.github.io/demo/build/6433.a6cfc6e.js:1:4909)\n    at r.handleMessage (https://jupyterlite.github.io/demo/build/6433.a6cfc6e.js:1:1128)\n    at https://jupyterlite.github.io/demo/build/6433.a6cfc6e.js:1:9083"
          ],
          "output_type": "error"
        }
      ],
      "execution_count": 68
    },
    {
      "cell_type": "code",
      "source": "",
      "metadata": {
        "trusted": true
      },
      "outputs": [],
      "execution_count": null
    },
    {
      "cell_type": "markdown",
      "source": "Asynchronous JavaScript\n\nWrite a function that fetches data from an API (e.g., JSONPlaceholder API) and prints the results.\nUse async and await to handle the asynchronous operations.",
      "metadata": {}
    },
    {
      "cell_type": "code",
      "source": "",
      "metadata": {
        "trusted": true
      },
      "outputs": [],
      "execution_count": null
    },
    {
      "cell_type": "code",
      "source": "",
      "metadata": {
        "trusted": true
      },
      "outputs": [],
      "execution_count": null
    }
  ]
}